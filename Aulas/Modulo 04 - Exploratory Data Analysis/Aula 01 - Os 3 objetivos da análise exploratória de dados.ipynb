{
 "cells": [
  {
   "cell_type": "markdown",
   "metadata": {},
   "source": [
    "<font color='yellow'><h1>Os 3 objetivos da análise exploratória de dados</h1></font>"
   ]
  },
  {
   "cell_type": "markdown",
   "metadata": {},
   "source": [
    "<h4>\n",
    "\n",
    "- Como as variáveis impactam o fenômeno? \n",
    "- Qual a força desse impacto?"
   ]
  },
  {
   "cell_type": "markdown",
   "metadata": {},
   "source": [
    "# Quais os 3 Objetivos da EDA?\n",
    "\n",
    "<ol>\n",
    "    <li>Ganhar experiência de Negócio.</li>\n",
    "    <li>Validar Hipóteses de Negócio. (Insights)</li>\n",
    "    <ul>\n",
    "        <li>Surpreender uma pessoa com os dados;</li>\n",
    "        <li>Ir contra a crença das pessoas;</li>\n",
    "    </ul>\n",
    "    <li>Perceber Variáveis que são importantes para o Modelo.</li>\n",
    "</ol>"
   ]
  },
  {
   "cell_type": "markdown",
   "metadata": {},
   "source": [
    "<font color='yellow'><h1>Análise Exploratória de Dados (EDA)</h1></font>\n",
    "\n",
    "<font color='orange'><h2>Análise Univariada:</h2></font>\n",
    "\n",
    "- Como é essa variável?\n",
    "    - Min, Máx, Distribuição, Range, ...\n",
    "\n",
    "<font color='orange'><h2>Análise Bivariada:</h2></font>\n",
    "\n",
    "- Como a variável impacta na resposta?\n",
    "    - Correlação, Validação das Hipóteses, ...\n",
    "\n",
    "<font color='orange'><h2>Análise Multivariada:</h2></font>\n",
    "\n",
    "- Como as variáveis se relacionam?\n",
    "    - Qual a correlação entre elas?\n",
    "    - Se por acaso duas variáveis tiverem relações muito próximas, você pode retirar uma delas, porque apenas uma delas basta. "
   ]
  },
  {
   "cell_type": "markdown",
   "metadata": {},
   "source": []
  }
 ],
 "metadata": {
  "interpreter": {
   "hash": "e8ecaee4aa731579ec7337fbf42ad07ec1021562a83452381cb61dcd63629f20"
  },
  "kernelspec": {
   "display_name": "Python 3.8.13 ('dsproducao')",
   "language": "python",
   "name": "python3"
  },
  "language_info": {
   "name": "python",
   "version": "3.8.13"
  },
  "orig_nbformat": 4
 },
 "nbformat": 4,
 "nbformat_minor": 2
}
